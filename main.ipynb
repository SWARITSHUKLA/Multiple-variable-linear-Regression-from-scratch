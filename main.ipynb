{
 "cells": [
  {
   "cell_type": "code",
   "execution_count": 30,
   "id": "132ba23d",
   "metadata": {},
   "outputs": [],
   "source": [
    "import numpy as np\n",
    "import pandas as pd\n",
    "import matplotlib.pyplot as plt\n",
    "import seaborn as sns\n",
    "import math"
   ]
  },
  {
   "cell_type": "code",
   "execution_count": 31,
   "id": "5fa12585",
   "metadata": {},
   "outputs": [
    {
     "data": {
      "text/html": [
       "<div>\n",
       "<style scoped>\n",
       "    .dataframe tbody tr th:only-of-type {\n",
       "        vertical-align: middle;\n",
       "    }\n",
       "\n",
       "    .dataframe tbody tr th {\n",
       "        vertical-align: top;\n",
       "    }\n",
       "\n",
       "    .dataframe thead th {\n",
       "        text-align: right;\n",
       "    }\n",
       "</style>\n",
       "<table border=\"1\" class=\"dataframe\">\n",
       "  <thead>\n",
       "    <tr style=\"text-align: right;\">\n",
       "      <th></th>\n",
       "      <th>Distance_km</th>\n",
       "      <th>Day_of_Week</th>\n",
       "      <th>Month</th>\n",
       "      <th>Fare_price</th>\n",
       "    </tr>\n",
       "  </thead>\n",
       "  <tbody>\n",
       "    <tr>\n",
       "      <th>0</th>\n",
       "      <td>37.454012</td>\n",
       "      <td>Wednesday</td>\n",
       "      <td>February</td>\n",
       "      <td>57.780894</td>\n",
       "    </tr>\n",
       "    <tr>\n",
       "      <th>1</th>\n",
       "      <td>95.071431</td>\n",
       "      <td>Tuesday</td>\n",
       "      <td>June</td>\n",
       "      <td>148.768414</td>\n",
       "    </tr>\n",
       "    <tr>\n",
       "      <th>2</th>\n",
       "      <td>73.199394</td>\n",
       "      <td>Tuesday</td>\n",
       "      <td>February</td>\n",
       "      <td>116.264454</td>\n",
       "    </tr>\n",
       "    <tr>\n",
       "      <th>3</th>\n",
       "      <td>59.865848</td>\n",
       "      <td>Wednesday</td>\n",
       "      <td>February</td>\n",
       "      <td>91.227016</td>\n",
       "    </tr>\n",
       "    <tr>\n",
       "      <th>4</th>\n",
       "      <td>15.601864</td>\n",
       "      <td>Sunday</td>\n",
       "      <td>February</td>\n",
       "      <td>37.731669</td>\n",
       "    </tr>\n",
       "  </tbody>\n",
       "</table>\n",
       "</div>"
      ],
      "text/plain": [
       "   Distance_km Day_of_Week     Month  Fare_price\n",
       "0    37.454012   Wednesday  February   57.780894\n",
       "1    95.071431     Tuesday      June  148.768414\n",
       "2    73.199394     Tuesday  February  116.264454\n",
       "3    59.865848   Wednesday  February   91.227016\n",
       "4    15.601864      Sunday  February   37.731669"
      ]
     },
     "execution_count": 31,
     "metadata": {},
     "output_type": "execute_result"
    }
   ],
   "source": [
    "Data = pd.read_csv(\"distance_day_month_fare_data.csv\")\n",
    "Data.head()"
   ]
  },
  {
   "cell_type": "code",
   "execution_count": 32,
   "id": "b927a0ca",
   "metadata": {},
   "outputs": [
    {
     "data": {
      "text/html": [
       "<div>\n",
       "<style scoped>\n",
       "    .dataframe tbody tr th:only-of-type {\n",
       "        vertical-align: middle;\n",
       "    }\n",
       "\n",
       "    .dataframe tbody tr th {\n",
       "        vertical-align: top;\n",
       "    }\n",
       "\n",
       "    .dataframe thead th {\n",
       "        text-align: right;\n",
       "    }\n",
       "</style>\n",
       "<table border=\"1\" class=\"dataframe\">\n",
       "  <thead>\n",
       "    <tr style=\"text-align: right;\">\n",
       "      <th></th>\n",
       "      <th>Distance_km</th>\n",
       "      <th>Day_of_Week</th>\n",
       "      <th>Month</th>\n",
       "      <th>Fare_price</th>\n",
       "    </tr>\n",
       "  </thead>\n",
       "  <tbody>\n",
       "    <tr>\n",
       "      <th>0</th>\n",
       "      <td>37.5</td>\n",
       "      <td>Wednesday</td>\n",
       "      <td>February</td>\n",
       "      <td>57.8</td>\n",
       "    </tr>\n",
       "    <tr>\n",
       "      <th>1</th>\n",
       "      <td>95.1</td>\n",
       "      <td>Tuesday</td>\n",
       "      <td>June</td>\n",
       "      <td>148.8</td>\n",
       "    </tr>\n",
       "    <tr>\n",
       "      <th>2</th>\n",
       "      <td>73.2</td>\n",
       "      <td>Tuesday</td>\n",
       "      <td>February</td>\n",
       "      <td>116.3</td>\n",
       "    </tr>\n",
       "    <tr>\n",
       "      <th>3</th>\n",
       "      <td>59.9</td>\n",
       "      <td>Wednesday</td>\n",
       "      <td>February</td>\n",
       "      <td>91.2</td>\n",
       "    </tr>\n",
       "    <tr>\n",
       "      <th>4</th>\n",
       "      <td>15.6</td>\n",
       "      <td>Sunday</td>\n",
       "      <td>February</td>\n",
       "      <td>37.7</td>\n",
       "    </tr>\n",
       "  </tbody>\n",
       "</table>\n",
       "</div>"
      ],
      "text/plain": [
       "   Distance_km Day_of_Week     Month  Fare_price\n",
       "0         37.5   Wednesday  February        57.8\n",
       "1         95.1     Tuesday      June       148.8\n",
       "2         73.2     Tuesday  February       116.3\n",
       "3         59.9   Wednesday  February        91.2\n",
       "4         15.6      Sunday  February        37.7"
      ]
     },
     "execution_count": 32,
     "metadata": {},
     "output_type": "execute_result"
    }
   ],
   "source": [
    "#preparing the data\n",
    "Data[\"Distance_km\"], Data[\"Fare_price\"] = Data[\"Distance_km\"].round(1), Data[\"Fare_price\"].round(1)\n",
    "Data.head()"
   ]
  },
  {
   "cell_type": "code",
   "execution_count": 33,
   "id": "b4a46fa6",
   "metadata": {},
   "outputs": [
    {
     "data": {
      "text/html": [
       "<div>\n",
       "<style scoped>\n",
       "    .dataframe tbody tr th:only-of-type {\n",
       "        vertical-align: middle;\n",
       "    }\n",
       "\n",
       "    .dataframe tbody tr th {\n",
       "        vertical-align: top;\n",
       "    }\n",
       "\n",
       "    .dataframe thead th {\n",
       "        text-align: right;\n",
       "    }\n",
       "</style>\n",
       "<table border=\"1\" class=\"dataframe\">\n",
       "  <thead>\n",
       "    <tr style=\"text-align: right;\">\n",
       "      <th></th>\n",
       "      <th>Distance_km</th>\n",
       "      <th>Day_of_Week</th>\n",
       "      <th>Month</th>\n",
       "      <th>Fare_price</th>\n",
       "    </tr>\n",
       "  </thead>\n",
       "  <tbody>\n",
       "    <tr>\n",
       "      <th>0</th>\n",
       "      <td>37.5</td>\n",
       "      <td>2</td>\n",
       "      <td>1</td>\n",
       "      <td>57.8</td>\n",
       "    </tr>\n",
       "    <tr>\n",
       "      <th>1</th>\n",
       "      <td>95.1</td>\n",
       "      <td>1</td>\n",
       "      <td>5</td>\n",
       "      <td>148.8</td>\n",
       "    </tr>\n",
       "    <tr>\n",
       "      <th>2</th>\n",
       "      <td>73.2</td>\n",
       "      <td>1</td>\n",
       "      <td>1</td>\n",
       "      <td>116.3</td>\n",
       "    </tr>\n",
       "    <tr>\n",
       "      <th>3</th>\n",
       "      <td>59.9</td>\n",
       "      <td>2</td>\n",
       "      <td>1</td>\n",
       "      <td>91.2</td>\n",
       "    </tr>\n",
       "    <tr>\n",
       "      <th>4</th>\n",
       "      <td>15.6</td>\n",
       "      <td>6</td>\n",
       "      <td>1</td>\n",
       "      <td>37.7</td>\n",
       "    </tr>\n",
       "  </tbody>\n",
       "</table>\n",
       "</div>"
      ],
      "text/plain": [
       "   Distance_km  Day_of_Week  Month  Fare_price\n",
       "0         37.5            2      1        57.8\n",
       "1         95.1            1      5       148.8\n",
       "2         73.2            1      1       116.3\n",
       "3         59.9            2      1        91.2\n",
       "4         15.6            6      1        37.7"
      ]
     },
     "execution_count": 33,
     "metadata": {},
     "output_type": "execute_result"
    }
   ],
   "source": [
    "day_map = {\n",
    "    \"Monday\":0,\n",
    "    \"Tuesday\":1,\n",
    "    \"Wednesday\":2,\n",
    "    \"Thursday\":3,\n",
    "    \"Friday\":4,\n",
    "    \"Saturday\":5,\n",
    "    \"Sunday\":6\n",
    "}\n",
    "month_map = {\n",
    "    \"January\":0,\n",
    "    \"February\":1,\n",
    "    \"March\":2,\n",
    "    \"April\":3,\n",
    "    \"May\":4,\n",
    "    \"June\":5,\n",
    "    \"July\":6,\n",
    "    \"August\":7,\n",
    "    \"September\":8,\n",
    "    \"October\":9,\n",
    "    \"November\":10,\n",
    "    \"December\":11\n",
    "}\n",
    "Data[\"Day_of_Week\"] = Data[\"Day_of_Week\"].map(day_map)\n",
    "Data[\"Month\"] = Data[\"Month\"].map(month_map)\n",
    "Data.head()"
   ]
  },
  {
   "cell_type": "code",
   "execution_count": 34,
   "id": "5b87dbbb",
   "metadata": {},
   "outputs": [],
   "source": [
    "x1 = np.array(Data[\"Distance_km\"])\n",
    "x2 = np.array(Data[\"Day_of_Week\"])\n",
    "x3 = np.array(Data[\"Month\"])\n",
    "y = np.array(Data[\"Fare_price\"])"
   ]
  },
  {
   "cell_type": "code",
   "execution_count": 35,
   "id": "4b3a14ad",
   "metadata": {},
   "outputs": [],
   "source": [
    "def Error_calc(w1,w2,w3,b):\n",
    "    m = np.size(x1)\n",
    "    Total_error = 0\n",
    "    for i in range(m):\n",
    "        y_hat = (w1*x1[i]) +(w2*x2[i])+ (w3*x3[i])+ b\n",
    "        error = math.pow((y_hat - y[i]), 2)\n",
    "        Total_error+= error\n",
    "    return Total_error/(2*m)\n",
    "\n"
   ]
  },
  {
   "cell_type": "code",
   "execution_count": 36,
   "id": "d18a88dd",
   "metadata": {},
   "outputs": [
    {
     "data": {
      "text/plain": [
       "91.81594300000006"
      ]
     },
     "execution_count": 36,
     "metadata": {},
     "output_type": "execute_result"
    }
   ],
   "source": [
    "Error_calc(1.2,3.1,1.6,3)"
   ]
  },
  {
   "cell_type": "code",
   "execution_count": 37,
   "id": "1fab2e0d",
   "metadata": {},
   "outputs": [],
   "source": [
    "def gradient_comp(w1,w2,w3,b):\n",
    "    m = np.size(x1)\n",
    "    dw1 = 0\n",
    "    dw2 = 0\n",
    "    dw3 = 0\n",
    "    db  = 0\n",
    "    for i in range (m):\n",
    "        y_hat = (w1*x1[i]) +(w2*x2[i])+ (w3*x3[i])+ b\n",
    "        error = y_hat - y[i]\n",
    "        dw1 += ((error)*x1[i])/m\n",
    "        dw2 += ((error)*x2[i])/m\n",
    "        dw3 += ((error)*x3[i])/m\n",
    "        db  += (error)/m\n",
    "    return dw1,dw2,dw3,db  "
   ]
  },
  {
   "cell_type": "code",
   "execution_count": 38,
   "id": "0e8743a6",
   "metadata": {},
   "outputs": [],
   "source": [
    "def gradient_descent(learning_rate = 0.0001,iterations = 10000):\n",
    "    w1 = 0.56\n",
    "    w2 = 0.34\n",
    "    w3 = 1.5\n",
    "    b = 0.778\n",
    "    for i in range(iterations):\n",
    "        dw1,dw2,dw3,db = gradient_comp(w1,w2,w3,b)\n",
    "        w1 = w1 - learning_rate * dw1\n",
    "        w2 = w2 - learning_rate * dw2\n",
    "        w3 = w3 - learning_rate * dw3\n",
    "        b  = b -  learning_rate * db\n",
    "        if i%1000 == 0:\n",
    "            error = Error_calc(w1,w2,w3,b)\n",
    "            print(f\"the cost after iteration {i} is {error}\")\n",
    "    return w1,w2,w3,b    \n",
    "    "
   ]
  },
  {
   "cell_type": "code",
   "execution_count": 39,
   "id": "cc54f15a",
   "metadata": {},
   "outputs": [
    {
     "name": "stdout",
     "output_type": "stream",
     "text": [
      "the cost after iteration 0 is 588.0125661767661\n"
     ]
    },
    {
     "name": "stdout",
     "output_type": "stream",
     "text": [
      "the cost after iteration 1000 is 13.511979064714597\n",
      "the cost after iteration 2000 is 13.153129157290591\n",
      "the cost after iteration 3000 is 13.075820109423272\n",
      "the cost after iteration 4000 is 13.025848093085925\n",
      "the cost after iteration 5000 is 12.98618248324352\n",
      "the cost after iteration 6000 is 12.951155027934503\n",
      "the cost after iteration 7000 is 12.918473746232563\n",
      "the cost after iteration 8000 is 12.887198090983718\n",
      "the cost after iteration 9000 is 12.856935520795078\n",
      "the optimized weights and biases are 1.527168849921408,0.28938272482613014,0.25146570464637646, 1.2928824091383362\n"
     ]
    }
   ],
   "source": [
    "ow1,ow2,ow3,ob = gradient_descent()\n",
    "\n",
    "print(f\"the optimized weights and biases are {ow1},{ow2},{ow3}, {ob}\")"
   ]
  },
  {
   "cell_type": "code",
   "execution_count": 40,
   "id": "251aeffa",
   "metadata": {},
   "outputs": [],
   "source": [
    "def predict_fare(x1,x2,x3):\n",
    "    prediction = (ow1*x1+ ow2*x2+ ow3*x3+ ob).round(1)\n",
    "    print(f\"The predicted fare price is {prediction}\")"
   ]
  },
  {
   "cell_type": "code",
   "execution_count": 41,
   "id": "a3e3d7dd",
   "metadata": {},
   "outputs": [
    {
     "name": "stdout",
     "output_type": "stream",
     "text": [
      "The predicted fare price is 78.2\n"
     ]
    }
   ],
   "source": [
    "predict_fare(49,2,6)"
   ]
  }
 ],
 "metadata": {
  "kernelspec": {
   "display_name": "Python 3",
   "language": "python",
   "name": "python3"
  },
  "language_info": {
   "codemirror_mode": {
    "name": "ipython",
    "version": 3
   },
   "file_extension": ".py",
   "mimetype": "text/x-python",
   "name": "python",
   "nbconvert_exporter": "python",
   "pygments_lexer": "ipython3",
   "version": "3.13.0"
  }
 },
 "nbformat": 4,
 "nbformat_minor": 5
}
